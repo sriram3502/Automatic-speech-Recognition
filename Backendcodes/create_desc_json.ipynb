{
 "cells": [
  {
   "cell_type": "code",
   "execution_count": 6,
   "id": "1efabae3",
   "metadata": {},
   "outputs": [],
   "source": [
    "from __future__ import absolute_import, division, print_function\n",
    "\n",
    "import argparse\n",
    "import json\n",
    "import os\n",
    "import wave"
   ]
  },
  {
   "cell_type": "code",
   "execution_count": 7,
   "id": "6e32b410",
   "metadata": {},
   "outputs": [],
   "source": [
    "def main(data_directory, output_file):\n",
    "    labels = []\n",
    "    durations = []\n",
    "    keys = []\n",
    "    for group in os.listdir(data_directory):\n",
    "        if group.startswith('.'):\n",
    "            continue\n",
    "        speaker_path = os.path.join(data_directory, group)\n",
    "        for speaker in os.listdir(speaker_path):\n",
    "            if speaker.startswith('.'):\n",
    "                continue\n",
    "            labels_file = os.path.join(speaker_path, speaker,\n",
    "                                       '{}-{}.trans.txt'\n",
    "                                       .format(group, speaker))\n",
    "            for line in open(labels_file):\n",
    "                split = line.strip().split()\n",
    "                file_id = split[0]\n",
    "                label = ' '.join(split[1:]).lower()\n",
    "                audio_file = os.path.join(speaker_path, speaker,\n",
    "                                          file_id) + '.wav'\n",
    "                audio = wave.open(audio_file)\n",
    "                duration = float(audio.getnframes()) / audio.getframerate()\n",
    "                audio.close()\n",
    "                keys.append(audio_file)\n",
    "                durations.append(duration)\n",
    "                labels.append(label)\n",
    "    with open(output_file, 'w') as out_file:\n",
    "        for i in range(len(keys)):\n",
    "            line = json.dumps({'key': keys[i], 'duration': durations[i],\n",
    "                              'text': labels[i]})\n",
    "            out_file.write(line + '\\n')\n"
   ]
  },
  {
   "cell_type": "code",
   "execution_count": 8,
   "id": "e0ff1939",
   "metadata": {},
   "outputs": [
    {
     "name": "stderr",
     "output_type": "stream",
     "text": [
      "usage: ipykernel_launcher.py [-h] data_directory output_file\n",
      "ipykernel_launcher.py: error: the following arguments are required: output_file\n"
     ]
    },
    {
     "ename": "SystemExit",
     "evalue": "2",
     "output_type": "error",
     "traceback": [
      "An exception has occurred, use %tb to see the full traceback.\n",
      "\u001b[1;31mSystemExit\u001b[0m\u001b[1;31m:\u001b[0m 2\n"
     ]
    }
   ],
   "source": [
    "if __name__ == '__main__':\n",
    "    parser = argparse.ArgumentParser()\n",
    "    parser.add_argument('data_directory', type=str,\n",
    "                        help='Path to data directory')\n",
    "    parser.add_argument('output_file', type=str,\n",
    "                        help='Path to output file')\n",
    "    args = parser.parse_args()\n",
    "    main(args.data_directory, args.output_file)\n"
   ]
  },
  {
   "cell_type": "code",
   "execution_count": null,
   "id": "378da5f3",
   "metadata": {},
   "outputs": [],
   "source": []
  }
 ],
 "metadata": {
  "kernelspec": {
   "display_name": "Python 3 (ipykernel)",
   "language": "python",
   "name": "python3"
  },
  "language_info": {
   "codemirror_mode": {
    "name": "ipython",
    "version": 3
   },
   "file_extension": ".py",
   "mimetype": "text/x-python",
   "name": "python",
   "nbconvert_exporter": "python",
   "pygments_lexer": "ipython3",
   "version": "3.9.13"
  }
 },
 "nbformat": 4,
 "nbformat_minor": 5
}
